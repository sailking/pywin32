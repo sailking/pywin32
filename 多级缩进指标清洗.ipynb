{
 "cells": [
  {
   "cell_type": "markdown",
   "metadata": {},
   "source": [
    "导入库"
   ]
  },
  {
   "cell_type": "code",
   "execution_count": 1,
   "metadata": {},
   "outputs": [],
   "source": [
    "import win32com.client\n",
    "import pythoncom\n",
    "from pprint import pprint\n",
    "\n",
    "xlDown = -4121\n",
    "xlShiftDown = -4161"
   ]
  },
  {
   "cell_type": "markdown",
   "metadata": {},
   "source": [
    "创建Application对象"
   ]
  },
  {
   "cell_type": "code",
   "execution_count": 2,
   "metadata": {},
   "outputs": [],
   "source": [
    "excel_application = win32com.client.Dispatch(\"Excel.Application\")  #create an excel application"
   ]
  },
  {
   "cell_type": "markdown",
   "metadata": {},
   "source": [
    "使Excel可见\n",
    "\n",
    "https://docs.microsoft.com/en-us/office/vba/api/excel.application.visible"
   ]
  },
  {
   "cell_type": "code",
   "execution_count": 3,
   "metadata": {},
   "outputs": [],
   "source": [
    "excel_application.Visible = True"
   ]
  },
  {
   "cell_type": "markdown",
   "metadata": {},
   "source": [
    "打开工作薄\n",
    "\n",
    "https://docs.microsoft.com/en-us/office/vba/api/excel.workbooks.open"
   ]
  },
  {
   "cell_type": "code",
   "execution_count": 4,
   "metadata": {},
   "outputs": [],
   "source": [
    "path = r\"D:\\test\\python\\test.xlsx\"\n",
    "workbooks = excel_application.Workbooks.Open(Filename=path)"
   ]
  },
  {
   "cell_type": "markdown",
   "metadata": {},
   "source": [
    "打开某个sheet\n",
    "\n",
    "https://docs.microsoft.com/en-us/office/vba/api/excel.workbook.worksheets"
   ]
  },
  {
   "cell_type": "code",
   "execution_count": 7,
   "metadata": {},
   "outputs": [],
   "source": [
    "worksheets = workbooks.Worksheets"
   ]
  },
  {
   "cell_type": "code",
   "execution_count": 8,
   "metadata": {},
   "outputs": [],
   "source": [
    "sheet_name = \"Sheet1\"  # 选定sheet的名字"
   ]
  },
  {
   "cell_type": "code",
   "execution_count": 9,
   "metadata": {},
   "outputs": [],
   "source": [
    "original_worksheet = worksheets(sheet_name)"
   ]
  },
  {
   "cell_type": "markdown",
   "metadata": {},
   "source": [
    "复制sheet\n",
    "\n",
    "https://docs.microsoft.com/en-us/office/vba/api/excel.sheets.copy"
   ]
  },
  {
   "cell_type": "code",
   "execution_count": 12,
   "metadata": {},
   "outputs": [],
   "source": [
    "original_worksheet.Copy(None, original_worksheet)   "
   ]
  },
  {
   "cell_type": "code",
   "execution_count": 13,
   "metadata": {},
   "outputs": [],
   "source": [
    "new_worksheet = worksheets(original_worksheet.Index + 1)"
   ]
  },
  {
   "cell_type": "code",
   "execution_count": 14,
   "metadata": {},
   "outputs": [],
   "source": [
    "new_worksheet.Name = \"new_\" + sheet_name    # 重命名sheet"
   ]
  },
  {
   "cell_type": "code",
   "execution_count": 15,
   "metadata": {},
   "outputs": [],
   "source": [
    "from collections import OrderedDict\n",
    "\n",
    "indent_level = 1\n",
    "old_indent = 0\n",
    "max_indent_level = 1\n",
    "indent_dict = OrderedDict()\n",
    "indent_level_dict = {\"0\" : 0}"
   ]
  },
  {
   "cell_type": "markdown",
   "metadata": {},
   "source": [
    "通过Range对象的IndentLevel属性来判断是几级指标\n",
    "\n",
    "https://docs.microsoft.com/en-us/office/vba/api/excel.range.indentlevel\n",
    "\n",
    "由于缩进不统一，比如二级缩进有时是2，有时是3，但是每一组指标不同级别的缩进是统一的。所以首先利用一个字典，存储IndentLevel和其对应的指标级别，然后再利用第二个有序字典存储指标和其对应的指标级别。"
   ]
  },
  {
   "cell_type": "code",
   "execution_count": 16,
   "metadata": {},
   "outputs": [
    {
     "name": "stdout",
     "output_type": "stream",
     "text": [
      "3\n"
     ]
    }
   ],
   "source": [
    "for item in new_worksheet.Range(\"A2\", new_worksheet.Range(\"A2\").End(xlDown)):\n",
    "    if item.IndentLevel > old_indent:\n",
    "        indent_level = indent_level + 1\n",
    "        old_indent = item.IndentLevel\n",
    "        if max_indent_level < indent_level:\n",
    "            max_indent_level = indent_level\n",
    "    elif item.IndentLevel < old_indent:\n",
    "        indent_level = indent_level_dict[str(item.IndentLevel)]\n",
    "        old_indent = item.IndentLevel \n",
    "    indent_level_dict[str(item.IndentLevel)] = indent_level\n",
    "    indent_dict[item.Value] = indent_level_dict[str(item.IndentLevel)]\n",
    "print(max_indent_level)"
   ]
  },
  {
   "cell_type": "markdown",
   "metadata": {},
   "source": [
    "通过Range的Insert方法插入列\n",
    "\n",
    "https://docs.microsoft.com/en-us/office/vba/api/excel.range.insert"
   ]
  },
  {
   "cell_type": "code",
   "execution_count": 21,
   "metadata": {},
   "outputs": [],
   "source": [
    "# 指标有几级就新建几列\n",
    "for i in range(0, max_indent_level):\n",
    "    new_worksheet.Range(\"A1\", new_worksheet.Range(\"A1\").End(xlDown)).Insert(Shift=xlShiftDown)\n",
    "    new_worksheet.Cells(1, 1).Value = str(max_indent_level-i) + \"级指标\""
   ]
  },
  {
   "cell_type": "code",
   "execution_count": 22,
   "metadata": {},
   "outputs": [],
   "source": [
    "row = 2\n",
    "row_content = {}\n",
    "for item, indent_level in indent_dict.items():\n",
    "    for column in range(indent_level, max_indent_level+1):\n",
    "        row_content[str(column)] = item\n",
    "    for column in range(1, max_indent_level+1):\n",
    "        new_worksheet.Cells(row, column).Value = row_content[str(column)]\n",
    "    row = row + 1    "
   ]
  },
  {
   "cell_type": "code",
   "execution_count": 65,
   "metadata": {},
   "outputs": [],
   "source": [
    "workbooks.Save()    # 保存退出"
   ]
  }
 ],
 "metadata": {
  "kernelspec": {
   "display_name": "Python 3",
   "language": "python",
   "name": "python3"
  },
  "language_info": {
   "codemirror_mode": {
    "name": "ipython",
    "version": 3
   },
   "file_extension": ".py",
   "mimetype": "text/x-python",
   "name": "python",
   "nbconvert_exporter": "python",
   "pygments_lexer": "ipython3",
   "version": "3.7.1"
  }
 },
 "nbformat": 4,
 "nbformat_minor": 2
}
